{
 "cells": [
  {
   "cell_type": "code",
   "execution_count": 31,
   "id": "91eb00e5",
   "metadata": {},
   "outputs": [],
   "source": [
    "import pandas as pd\n",
    "import os\n",
    "import pyexcel as pe"
   ]
  },
  {
   "cell_type": "code",
   "execution_count": 27,
   "id": "9c0271e4",
   "metadata": {},
   "outputs": [],
   "source": [
    "ALLOWED_FILE_TYPES = (\"xlsx\", \"xls\")\n",
    "CHUNK_SIZE = 50\n",
    "\n",
    "# creating required paths and dir\n",
    "CWD = os.getcwd()\n",
    "INPUT_DIR = os.path.join(CWD, \"input files\")\n",
    "OUTPUT_DIR = os.path.join(CWD, \"output files\")\n",
    "\n",
    "if not os.path.exists(INPUT_DIR):\n",
    "    logger.info(\"input files dir does not exists, Creating..\")\n",
    "    os.mkdir(INPUT_DIR)\n",
    "if not os.path.exists(OUTPUT_DIR):\n",
    "    os.mkdir(OUTPUT_DIR)"
   ]
  },
  {
   "cell_type": "code",
   "execution_count": 32,
   "id": "3559c821",
   "metadata": {},
   "outputs": [],
   "source": [
    "def read_excel_chunks(input_file, chunksize):\n",
    "    print(\"Loading excel file..\")\n",
    "    records1 = pe.iget_array(file_name=input_file)\n",
    "    print(\"Loaded excel file\")\n",
    "    temp = []\n",
    "    col_names = []\n",
    "    for i in records1:\n",
    "        if not col_names:\n",
    "            col_names = i\n",
    "            continue\n",
    "        temp.append(i)\n",
    "        if len(temp) >= chunksize:\n",
    "            yield pd.DataFrame(data=temp, columns=col_names)\n",
    "            temp = []\n",
    "    pe.free_resources()"
   ]
  },
  {
   "cell_type": "code",
   "execution_count": null,
   "id": "0ed89ead",
   "metadata": {},
   "outputs": [],
   "source": [
    "all_excel_files = [i for i in os.listdir(INPUT_DIR) if i.rsplit(os.extsep, 1)[1] in ALLOWED_FILE_TYPES]\n",
    "print(f\"Found {len(all_excel_files)} excel files..\")\n",
    "for file in all_excel_files:\n",
    "    print(f\"Processing {file} file\")\n",
    "    filename, ext = file.rsplit(os.extsep, 1)\n",
    "    file_path = os.path.join(INPUT_DIR, file)\n",
    "    file_output_dir = os.path.join(OUTPUT_DIR, f\"{filename}_{ext}\")\n",
    "    if not os.path.exists(file_output_dir):\n",
    "        os.mkdir(file_output_dir)\n",
    "    for i, df in enumerate(read_excel_chunks(file_path, CHUNK_SIZE)):\n",
    "        chunk_name = f\"{filename}_{i}.xlsx\"\n",
    "        df.to_excel(os.path.join(file_output_dir, chunk_name), index=False)\n",
    "        print(f\"Saved {chunk_name}\")"
   ]
  },
  {
   "cell_type": "code",
   "execution_count": null,
   "id": "d81ab71e",
   "metadata": {},
   "outputs": [],
   "source": []
  }
 ],
 "metadata": {
  "kernelspec": {
   "display_name": "Python 3 (ipykernel)",
   "language": "python",
   "name": "python3"
  },
  "language_info": {
   "codemirror_mode": {
    "name": "ipython",
    "version": 3
   },
   "file_extension": ".py",
   "mimetype": "text/x-python",
   "name": "python",
   "nbconvert_exporter": "python",
   "pygments_lexer": "ipython3",
   "version": "3.9.13"
  }
 },
 "nbformat": 4,
 "nbformat_minor": 5
}
